{
 "cells": [
  {
   "cell_type": "code",
   "execution_count": 3,
   "metadata": {},
   "outputs": [
    {
     "name": "stdout",
     "output_type": "stream",
     "text": [
      "Central Composite Design (CCD) Matrix:\n",
      "[[-1.         -1.         -1.        ]\n",
      " [ 1.         -1.         -1.        ]\n",
      " [-1.          1.         -1.        ]\n",
      " [ 1.          1.         -1.        ]\n",
      " [-1.         -1.          1.        ]\n",
      " [ 1.         -1.          1.        ]\n",
      " [-1.          1.          1.        ]\n",
      " [ 1.          1.          1.        ]\n",
      " [-1.73205081  0.          0.        ]\n",
      " [ 1.73205081  0.          0.        ]\n",
      " [ 0.         -1.73205081  0.        ]\n",
      " [ 0.          1.73205081  0.        ]\n",
      " [ 0.          0.         -1.73205081]\n",
      " [ 0.          0.          1.73205081]]\n",
      "Central Composite Design (CCD):\n",
      "    Temperature  Rotation Speed  Cell Potential\n",
      "0     20.000000      150.000000       -2.000000\n",
      "1     80.000000      150.000000       -2.000000\n",
      "2     20.000000      600.000000       -2.000000\n",
      "3     80.000000      600.000000       -2.000000\n",
      "4     20.000000      150.000000        2.000000\n",
      "5     80.000000      150.000000        2.000000\n",
      "6     20.000000      600.000000        2.000000\n",
      "7     80.000000      600.000000        2.000000\n",
      "8     -1.961524      375.000000        0.000000\n",
      "9    101.961524      375.000000        0.000000\n",
      "10    50.000000      -14.711432        0.000000\n",
      "11    50.000000      764.711432        0.000000\n",
      "12    50.000000      375.000000       -3.464102\n",
      "13    50.000000      375.000000        3.464102\n",
      "\n",
      "Design saved to 'ccd_design.csv'\n"
     ]
    }
   ],
   "source": [
    "import numpy as np\n",
    "import pandas as pd\n",
    "import pyDOE3\n",
    "\n",
    "# Define the number of factors\n",
    "num_factors = 3\n",
    "\n",
    "# Ranges for each factor: [min, max]\n",
    "levels = np.array([\n",
    "    [20, 80],   # Range for Factor 1\n",
    "    [150, 600], # Range for Factor 2\n",
    "    [-2, 2]     # Range for Factor 3\n",
    "])\n",
    "\n",
    "# Generate a Central Composite Design (CCD)\n",
    "# this give a matrix of dimension num_factors * 2^(num_factors-1) where each row is a point in the design\n",
    "# with -1 being the low level, 0 the center and 1 the high level, other value are proportional to the distance from the center\n",
    "center = (0, 0)\n",
    "ccd_design = pyDOE3.ccdesign(num_factors, center=center, alpha='o', face='ccc')\n",
    "\n",
    "print(\"Central Composite Design (CCD) Matrix:\")\n",
    "print(ccd_design)\n",
    "\n",
    "# Scale the design to the specified ranges\n",
    "def scale_design(design, levels):\n",
    "    scaled_design = np.zeros_like(design)\n",
    "    for i in range(design.shape[1]):\n",
    "        min_val = levels[i, 0]\n",
    "        max_val = levels[i, 1]\n",
    "        scaled_design[:, i] = design[:, i] * (max_val - min_val) / 2 + (min_val + max_val) / 2\n",
    "    return scaled_design\n",
    "\n",
    "scaled_ccd_design = scale_design(ccd_design, levels)\n",
    "\n",
    "# Create a DataFrame to display the design\n",
    "factors = ['Temperature', 'Rotation Speed', 'Cell Potential']\n",
    "df_design = pd.DataFrame(scaled_ccd_design, columns=factors)\n",
    "\n",
    "# Display the design\n",
    "print(\"Central Composite Design (CCD):\")\n",
    "print(df_design)\n",
    "\n",
    "# Save the design to a CSV file\n",
    "df_design.to_csv('ccd_design.csv', index=False)\n",
    "print(\"\\nDesign saved to 'ccd_design.csv'\")"
   ]
  }
 ],
 "metadata": {
  "kernelspec": {
   "display_name": "Python 3",
   "language": "python",
   "name": "python3"
  },
  "language_info": {
   "codemirror_mode": {
    "name": "ipython",
    "version": 3
   },
   "file_extension": ".py",
   "mimetype": "text/x-python",
   "name": "python",
   "nbconvert_exporter": "python",
   "pygments_lexer": "ipython3",
   "version": "3.11.5"
  }
 },
 "nbformat": 4,
 "nbformat_minor": 2
}
