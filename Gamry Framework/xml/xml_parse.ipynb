{
 "cells": [
  {
   "cell_type": "code",
   "execution_count": 1,
   "metadata": {},
   "outputs": [],
   "source": [
    "import os, glob\n",
    "import xml.parsers.expat as expat\n",
    "import xml.etree.ElementTree as ET"
   ]
  },
  {
   "cell_type": "code",
   "execution_count": 2,
   "metadata": {},
   "outputs": [],
   "source": [
    "tree = ET.parse(\"sequencer.xml\")\n",
    "root = tree.getroot()"
   ]
  },
  {
   "cell_type": "code",
   "execution_count": 3,
   "metadata": {},
   "outputs": [],
   "source": [
    "def print_subelements(element, level=0):\n",
    "    if level == 0:\n",
    "        print(\"----\" + element.tag)\n",
    "    else:\n",
    "        print(\"----\" * level + \"|---\" + element.tag)\n",
    "    for child in element:\n",
    "        print_subelements(child, level + 1)\n",
    "\n",
    "\n",
    "def print_stats(root):\n",
    "    print(\"Number of categories: \", len(root.findall(\".//category\")))\n",
    "    print(\n",
    "        \"Number of elements (that is the number of methods available): \",\n",
    "        len(root.findall(\".//element\")),\n",
    "    )"
   ]
  },
  {
   "cell_type": "code",
   "execution_count": 4,
   "metadata": {},
   "outputs": [
    {
     "name": "stdout",
     "output_type": "stream",
     "text": [
      "Number of categories:  5\n",
      "Number of elements (that is the number of methods available):  30\n"
     ]
    }
   ],
   "source": [
    "print_stats(root)"
   ]
  },
  {
   "cell_type": "code",
   "execution_count": 5,
   "metadata": {},
   "outputs": [
    {
     "name": "stdout",
     "output_type": "stream",
     "text": [
      "MAIN root tag: experiment_elements\n",
      "subelement: category, name: Frequently Used Steps\n",
      "subelement: category, name: Hardware\n",
      "subelement: category, name: Sequence Utilities\n",
      "subelement: category, name: Electrode\n",
      "subelement: category, name: General\n",
      "---------------------------------------------\n",
      "file: sequencerDC105.xml, root tag: experiment_elements\n",
      "Number of categories:  1\n",
      "Number of elements (that is the number of methods available):  7\n",
      "subelement: category, name: DC Corrosion\n",
      "---------------------------------------------\n",
      "file: sequencerEFM140.xml, root tag: experiment_elements\n",
      "Number of categories:  1\n",
      "Number of elements (that is the number of methods available):  1\n",
      "subelement: category, name: Electrochemical Frequency Modulation\n",
      "---------------------------------------------\n",
      "file: sequencerEIS300.xml, root tag: experiment_elements\n",
      "Number of categories:  1\n",
      "Number of elements (that is the number of methods available):  9\n",
      "subelement: category, name: Electrochemical Impedance\n",
      "---------------------------------------------\n",
      "file: sequencerEN120.xml, root tag: experiment_elements\n",
      "Number of categories:  1\n",
      "Number of elements (that is the number of methods available):  1\n",
      "subelement: category, name: Electrochemical Noise\n",
      "---------------------------------------------\n",
      "file: sequencerPHE200.xml, root tag: experiment_elements\n",
      "Number of categories:  1\n",
      "Number of elements (that is the number of methods available):  8\n",
      "subelement: category, name: Physical Electrochemistry\n",
      "---------------------------------------------\n",
      "file: sequencerPV220.xml, root tag: experiment_elements\n",
      "Number of categories:  1\n",
      "Number of elements (that is the number of methods available):  5\n",
      "subelement: category, name: Pulse Voltammetry\n",
      "---------------------------------------------\n",
      "file: sequencerPWR800.xml, root tag: experiment_elements\n",
      "Number of categories:  2\n",
      "Number of elements (that is the number of methods available):  22\n",
      "subelement: category, name: Electrochemical Energy\n",
      "subelement: category, name: Aux Measurements\n"
     ]
    }
   ],
   "source": [
    "tree = ET.parse(\"sequencer.xml\")\n",
    "root = tree.getroot()\n",
    "# print the current subelements of the root\n",
    "print(f\"MAIN root tag: {root.tag}\")\n",
    "for subelement in root:\n",
    "    print(f\"subelement: {subelement.tag}, name: {subelement.find('name').text}\")\n",
    "\n",
    "# read all the .xml file in the folder, they all have the same structure, combine them into one file\n",
    "for filename in glob.glob(\"*.xml\"):\n",
    "    if filename == \"combined_sequencer_methods.xml\" or filename == \"sequencer.xml\":\n",
    "        continue\n",
    "    print(f\"---------------------------------------------\")\n",
    "    temptree = ET.parse(filename)\n",
    "    print(f\"file: {filename}, root tag: {temptree.getroot().tag}\")\n",
    "\n",
    "    print_stats(temptree.getroot())\n",
    "    for subelement in temptree.getroot().findall(\"category\"):\n",
    "        print(f\"subelement: {subelement.tag}, name: {subelement.find('name').text}\")\n",
    "        # check if the subelement name is already in the main tree\n",
    "        for main_subelement in root.findall(\"category\"):\n",
    "            if main_subelement.find(\"name\").text == subelement.find(\"name\").text:\n",
    "                print(f\"subelement {subelement.find('name').text} already in the main tree\")\n",
    "                break\n",
    "        # extend the main tree with the subelement\n",
    "        root.append(subelement)\n",
    "tree.write(\"combined_sequencer_methods.xml\")"
   ]
  },
  {
   "cell_type": "code",
   "execution_count": 6,
   "metadata": {},
   "outputs": [
    {
     "name": "stdout",
     "output_type": "stream",
     "text": [
      "Number of categories:  13\n",
      "Number of elements (that is the number of methods available):  83\n"
     ]
    }
   ],
   "source": [
    "print_stats(root)"
   ]
  }
 ],
 "metadata": {
  "kernelspec": {
   "display_name": ".venv",
   "language": "python",
   "name": "python3"
  },
  "language_info": {
   "codemirror_mode": {
    "name": "ipython",
    "version": 3
   },
   "file_extension": ".py",
   "mimetype": "text/x-python",
   "name": "python",
   "nbconvert_exporter": "python",
   "pygments_lexer": "ipython3",
   "version": "3.11.5"
  }
 },
 "nbformat": 4,
 "nbformat_minor": 2
}
