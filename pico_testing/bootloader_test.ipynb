{
 "cells": [
  {
   "cell_type": "code",
   "execution_count": 1,
   "metadata": {},
   "outputs": [],
   "source": [
    "import os\n",
    "import re\n",
    "import time\n",
    "import json\n",
    "import base64\n",
    "import serial\n",
    "import hashlib"
   ]
  },
  {
   "cell_type": "code",
   "execution_count": 2,
   "metadata": {},
   "outputs": [],
   "source": [
    "COM_PORT = \"COM10\"\n",
    "BAUD_RATE = 115200\n",
    "\n",
    "serial_port = serial.Serial()\n",
    "serial_port.baudrate = BAUD_RATE\n",
    "serial_port.port = COM_PORT\n",
    "serial_port.timeout = 10\n",
    "serial_port.open()"
   ]
  },
  {
   "cell_type": "code",
   "execution_count": 3,
   "metadata": {},
   "outputs": [],
   "source": [
    "def reset_board(serial_port_obj: serial.Serial):\n",
    "    if not serial_port_obj and not serial_port_obj.is_open:\n",
    "        return\n",
    "    \"\"\"Reset the board by sending a soft reset command over serial. ONLY WORKS with MicroPython.\"\"\"\n",
    "    pythonInject = [\n",
    "        \"import machine\",\n",
    "        \"machine.reset()\",\n",
    "    ]\n",
    "    # interrupt the currently running code\n",
    "    serial_port_obj.write(b\"\\x03\")  # Ctrl+C\n",
    "    # just consumed all the output until the prompt, try up to 10 seconds\n",
    "    time_start = time.time()\n",
    "    while time.time() - time_start < 10:\n",
    "        line = serial_port_obj.readline().decode(\"utf-8\").strip()\n",
    "        if \"MicroPython v\" in line:\n",
    "            break\n",
    "    serial_port_obj.write(b\"\\x01\")  # switch to raw REPL mode & inject code\n",
    "    time.sleep(0.1)\n",
    "    time_start = time.time()\n",
    "    while time.time() - time_start < 10:\n",
    "        line = serial_port_obj.readline().decode(\"utf-8\").strip()\n",
    "        if \">>>\" in line:\n",
    "            break\n",
    "    for code in pythonInject:\n",
    "        serial_port_obj.write(bytes(code + \"\\n\", \"utf-8\"))\n",
    "    serial_port_obj.write(b\"\\x04\")  # exit raw REPL and run injected code\n",
    "    serial_port_obj.close()\n",
    "    time.sleep(1)\n",
    "\n",
    "\n",
    "reset_board(serial_port_obj=serial_port)"
   ]
  },
  {
   "cell_type": "code",
   "execution_count": 4,
   "metadata": {},
   "outputs": [],
   "source": [
    "serial_port.open()"
   ]
  },
  {
   "cell_type": "code",
   "execution_count": 5,
   "metadata": {},
   "outputs": [
    {
     "name": "stdout",
     "output_type": "stream",
     "text": [
      "Device -> PC: Info: Available space on the disk: 294912 bytes, total space: 1441792 bytes.\n"
     ]
    }
   ],
   "source": [
    "# request available space on the disk if requested by sending a json with request_disc_available_space as true\n",
    "def request_disc_available_space(serial_port) -> tuple[int, int]:\n",
    "    header = {\n",
    "        \"request_disc_available_space\": True,\n",
    "    }\n",
    "    message = (json.dumps(header) + \"\\n\").encode()\n",
    "    serial_port.write(message)\n",
    "    while True:\n",
    "        try:\n",
    "            response = serial_port.readline().decode().strip()\n",
    "            print(\"Device -> PC:\", response)\n",
    "            if \"Info: Available space\" in response:\n",
    "                # return format \"Device -> PC: Info: Available space on the disk: 1228800 bytes, total space: 1441792 bytes.\"\n",
    "                match = re.search(r\"(\\d+) bytes, total space: (\\d+) bytes\", response)\n",
    "                if match:\n",
    "                    available_space = int(match.group(1))\n",
    "                    total_space = int(match.group(2))\n",
    "                    return available_space, total_space\n",
    "        except Exception as e:\n",
    "            print(f\"Error: {e}\")\n",
    "            break\n",
    "    return 0, 0\n",
    "\n",
    "\n",
    "available_space, total_space = request_disc_available_space(serial_port)"
   ]
  },
  {
   "cell_type": "code",
   "execution_count": 6,
   "metadata": {},
   "outputs": [
    {
     "data": {
      "text/plain": [
       "{'autosampler_config.json': 311,\n",
       " 'pumps_config.json': 815,\n",
       " 'bootloader_util.py': 1267,\n",
       " 'pump_control_pico.py': 19838,\n",
       " 'main.py': 111,\n",
       " 'bootloader.py': 7464,\n",
       " 'pwm_dma_fade_onetime.py': 5955,\n",
       " 'autosampler_status.txt': 11,\n",
       " 'test.pdf': 1052542,\n",
       " 'bootloader_config.json': 62,\n",
       " 'frequency_counter_reciprocal_with_interrupt.py': 9351,\n",
       " 'autosampler_control_pico.py': 14068}"
      ]
     },
     "execution_count": 6,
     "metadata": {},
     "output_type": "execute_result"
    }
   ],
   "source": [
    "# request all files stat on the disk if requested by sending a json with request_dir_list as true\n",
    "def request_dir_list(serial_port) -> dict:\n",
    "    header = {\n",
    "        \"request_dir_list\": True,\n",
    "    }\n",
    "    message = (json.dumps(header) + \"\\n\").encode()\n",
    "    serial_port.write(message)\n",
    "    while True:\n",
    "        try:\n",
    "            response = serial_port.readline().decode().strip()\n",
    "            # print(\"Device -> PC:\", response)\n",
    "            if \"Info: Directory list\" in response:\n",
    "                # return format \"Device -> PC: Info: Directory list: \"start of a directory\"\n",
    "                match = re.search(r\"Info: Directory list: (.*)$\", response)\n",
    "                if match:\n",
    "                    output = json.loads(match.group(1))\n",
    "                    return output\n",
    "        except Exception as e:\n",
    "            print(f\"Error: {e}\")\n",
    "            break\n",
    "    return {}\n",
    "\n",
    "\n",
    "file_stats = request_dir_list(serial_port)\n",
    "# the last 4th field in the list is the file size\n",
    "file_stats_size_only = {file: stat[-4] for file, stat in file_stats.items()}\n",
    "file_stats_size_only"
   ]
  },
  {
   "cell_type": "code",
   "execution_count": 7,
   "metadata": {},
   "outputs": [
    {
     "name": "stdout",
     "output_type": "stream",
     "text": [
      "Device -> PC: Info: free Memory 218480 bytes, total Memory 233024 bytes.\n"
     ]
    }
   ],
   "source": [
    "# request avilable memory on the device if requested by sending a json with request_memory as true\n",
    "def request_memory(serial_port) -> tuple[int, int]:\n",
    "    header = {\n",
    "        \"request_memory\": True,\n",
    "    }\n",
    "    message = (json.dumps(header) + \"\\n\").encode()\n",
    "    serial_port.write(message)\n",
    "    while True:\n",
    "        try:\n",
    "            response = serial_port.readline().decode().strip()\n",
    "            print(\"Device -> PC:\", response)\n",
    "            if \"Info: free Memory\" in response:\n",
    "                # return format \"Device -> PC: Info: free Memory 218864 bytes, total Memory 233024 bytes.\"\n",
    "                match = re.search(r\"(\\d+) bytes, total Memory (\\d+) bytes\", response)\n",
    "                if match:\n",
    "                    free_memory = int(match.group(1))\n",
    "                    total_memory = int(match.group(2))\n",
    "                    return free_memory, total_memory\n",
    "        except Exception as e:\n",
    "            print(f\"Error: {e}\")\n",
    "            break\n",
    "    return 0, 0\n",
    "\n",
    "\n",
    "free_memory, total_memory = request_memory(serial_port)"
   ]
  },
  {
   "cell_type": "code",
   "execution_count": 8,
   "metadata": {},
   "outputs": [
    {
     "name": "stdout",
     "output_type": "stream",
     "text": [
      "Device -> PC: Success: Removed file test.pdf.\n",
      "True\n"
     ]
    }
   ],
   "source": [
    "def remove_file(serial_port, file_path) -> bool:\n",
    "    header = {\n",
    "        \"remove_file_request\": True,\n",
    "        \"filename\": file_path,\n",
    "    }\n",
    "    message = (json.dumps(header) + \"\\n\").encode()\n",
    "    serial_port.write(message)\n",
    "    while True:\n",
    "        try:\n",
    "            response = serial_port.readline().decode().strip()\n",
    "            print(\"Device -> PC:\", response)\n",
    "            if \"Success: Removed file\" in response:\n",
    "                return True\n",
    "            if \"Error: \" in response:\n",
    "                return False\n",
    "        except Exception as e:\n",
    "            print(f\"Error: {e}\")\n",
    "            break\n",
    "    return False\n",
    "\n",
    "status = remove_file(serial_port, \"test.pdf\")\n",
    "print(status)"
   ]
  },
  {
   "cell_type": "code",
   "execution_count": 9,
   "metadata": {},
   "outputs": [
    {
     "name": "stdout",
     "output_type": "stream",
     "text": [
      "Device -> PC: Success: Restarting file transfer...\n"
     ]
    },
    {
     "data": {
      "text/plain": [
       "True"
      ]
     },
     "execution_count": 9,
     "metadata": {},
     "output_type": "execute_result"
    }
   ],
   "source": [
    "def restart_file_transfer(serial_port):\n",
    "    header = {\n",
    "        \"restart\": True,\n",
    "    }\n",
    "    message = (json.dumps(header) + \"\\n\").encode()\n",
    "    serial_port.write(message)\n",
    "    while True:\n",
    "        try:\n",
    "            response = serial_port.readline().decode().strip()\n",
    "            print(\"Device -> PC:\", response)\n",
    "            if \"Success: Restarting file transfer\" in response:\n",
    "                return True\n",
    "            if \"Error: \" in response:\n",
    "                return False\n",
    "        except Exception as e:\n",
    "            print(f\"Error: {e}\")\n",
    "            break\n",
    "    return False\n",
    "\n",
    "\n",
    "restart_file_transfer(serial_port)"
   ]
  },
  {
   "cell_type": "code",
   "execution_count": 10,
   "metadata": {},
   "outputs": [],
   "source": [
    "def reboot(serial_port) -> bool:\n",
    "    header = {\n",
    "        \"reset\": True,\n",
    "    }\n",
    "    message = (json.dumps(header) + \"\\n\").encode()\n",
    "    serial_port.write(message)\n",
    "    while True:\n",
    "        try:\n",
    "            response = serial_port.readline().decode().strip()\n",
    "            print(\"Device -> PC:\", response)\n",
    "            if \"Info: Firmware update complete.\" in response:\n",
    "                return True\n",
    "            if \"Error: \" in response:\n",
    "                return False\n",
    "        except Exception as e:\n",
    "            print(f\"Error: {e}\")\n",
    "            break\n",
    "    return False"
   ]
  },
  {
   "cell_type": "code",
   "execution_count": 11,
   "metadata": {},
   "outputs": [],
   "source": [
    "def send_file(serial_port, file_path) -> bool:\n",
    "    restart_file_transfer(serial_port)\n",
    "    available_space, _ = request_disc_available_space(serial_port)\n",
    "    free_memory, _ = request_memory(serial_port)\n",
    "    CHUNK_SIZE = int(free_memory * 0.1)\n",
    "\n",
    "    # Read the file to be transferred\n",
    "    with open(file_path, \"rb\") as f:\n",
    "        file_content = f.read()\n",
    "    file_size = len(file_content)\n",
    "    if file_size > available_space:\n",
    "        print(f\"Error: Not enough space on the device to transfer {file_path}\")\n",
    "        return False\n",
    "    # resize CHUNK_SIZE to the power of 2\n",
    "    CHUNK_SIZE = 2 ** (CHUNK_SIZE.bit_length() - 1)\n",
    "    if file_size < CHUNK_SIZE:\n",
    "        CHUNK_SIZE = file_size\n",
    "    # Split the file into chunks\n",
    "    chunks = [file_content[i : i + CHUNK_SIZE] for i in range(0, file_size, CHUNK_SIZE)]\n",
    "    print(\n",
    "        f\"file size {file_size} bytes, select chunk size of {CHUNK_SIZE} bytes, {len(chunks)} chunks total\"\n",
    "    )\n",
    "\n",
    "    # Send header message with the filename\n",
    "    default_header = {\n",
    "        \"filename\": os.path.basename(file_path),\n",
    "        \"finish\": False,\n",
    "    }\n",
    "\n",
    "    # Send each chunk as a JSON message\n",
    "    for i, chunk in enumerate(chunks):\n",
    "        # Encode the chunk in base64\n",
    "        chunk_b64 = base64.b64encode(chunk).decode()\n",
    "        # Create a JSON message with the chunk info\n",
    "        chunk_msg = default_header.copy()\n",
    "        chunk_msg[\"chunk_size\"] = str(len(chunk))\n",
    "        chunk_msg[\"chunk_data_b64\"] = chunk_b64\n",
    "        # if this is the last chunk, set finish to True\n",
    "        if i == len(chunks) - 1:\n",
    "            checksum = hashlib.sha256(file_content).hexdigest()\n",
    "            chunk_msg[\"checksum\"] = checksum\n",
    "            chunk_msg[\"size\"] = file_size\n",
    "            chunk_msg[\"finish\"] = True\n",
    "            # print(\"Sent finish message\")\n",
    "        message = (json.dumps(chunk_msg) + \"\\n\").encode()\n",
    "        serial_port.write(message)\n",
    "        print(f\"PC -> Device: Sent chunk {i} of size {len(chunk)} bytes\")\n",
    "        # read the response from the device, block reading\n",
    "        while True:\n",
    "            try:\n",
    "                response = serial_port.readline().decode().strip()\n",
    "                print(\"Device -> PC:\", response)\n",
    "                if \"Success: finished receiving\" in response:\n",
    "                    return True\n",
    "                if \"Success: Received chunk\" in response:\n",
    "                    break\n",
    "                if \"Error: \" in response:\n",
    "                    return False\n",
    "            except Exception as e:\n",
    "                print(f\"Error: {e}\")\n",
    "                break\n",
    "    return False"
   ]
  },
  {
   "cell_type": "code",
   "execution_count": 12,
   "metadata": {},
   "outputs": [
    {
     "name": "stdout",
     "output_type": "stream",
     "text": [
      "Device -> PC: Success: Restarting file transfer...\n",
      "Device -> PC: Info: Available space on the disk: 1351680 bytes, total space: 1441792 bytes.\n",
      "Device -> PC: Info: free Memory 219584 bytes, total Memory 233024 bytes.\n",
      "file size 7464 bytes, select chunk size of 7464 bytes, 1 chunks total\n",
      "PC -> Device: Sent chunk 0 of size 7464 bytes\n",
      "Device -> PC: Info: Starting a new file update: bootloader.py\n",
      "Device -> PC: Success: finished receiving bootloader.py of size 7464 bytes.\n"
     ]
    },
    {
     "data": {
      "text/plain": [
       "True"
      ]
     },
     "execution_count": 12,
     "metadata": {},
     "output_type": "execute_result"
    }
   ],
   "source": [
    "send_file(serial_port, \"bootloader.py\")"
   ]
  },
  {
   "cell_type": "code",
   "execution_count": 13,
   "metadata": {},
   "outputs": [
    {
     "name": "stdout",
     "output_type": "stream",
     "text": [
      "Device -> PC: Success: Restarting file transfer...\n",
      "Device -> PC: Info: Available space on the disk: 1351680 bytes, total space: 1441792 bytes.\n",
      "Device -> PC: Info: free Memory 201920 bytes, total Memory 233024 bytes.\n",
      "file size 1052542 bytes, select chunk size of 16384 bytes, 65 chunks total\n",
      "PC -> Device: Sent chunk 0 of size 16384 bytes\n",
      "Device -> PC: Info: Starting a new file update: test.pdf\n",
      "Device -> PC: Success: Received chunk of size 16384, total received 16384 bytes.\n",
      "PC -> Device: Sent chunk 1 of size 16384 bytes\n",
      "Device -> PC: Success: Received chunk of size 16384, total received 32768 bytes.\n",
      "PC -> Device: Sent chunk 2 of size 16384 bytes\n",
      "Device -> PC: Success: Received chunk of size 16384, total received 49152 bytes.\n",
      "PC -> Device: Sent chunk 3 of size 16384 bytes\n",
      "Device -> PC: Success: Received chunk of size 16384, total received 65536 bytes.\n",
      "PC -> Device: Sent chunk 4 of size 16384 bytes\n",
      "Device -> PC: Success: Received chunk of size 16384, total received 81920 bytes.\n",
      "PC -> Device: Sent chunk 5 of size 16384 bytes\n",
      "Device -> PC: Success: Received chunk of size 16384, total received 98304 bytes.\n",
      "PC -> Device: Sent chunk 6 of size 16384 bytes\n",
      "Device -> PC: Success: Received chunk of size 16384, total received 114688 bytes.\n",
      "PC -> Device: Sent chunk 7 of size 16384 bytes\n",
      "Device -> PC: Success: Received chunk of size 16384, total received 131072 bytes.\n",
      "PC -> Device: Sent chunk 8 of size 16384 bytes\n",
      "Device -> PC: Success: Received chunk of size 16384, total received 147456 bytes.\n",
      "PC -> Device: Sent chunk 9 of size 16384 bytes\n",
      "Device -> PC: Success: Received chunk of size 16384, total received 163840 bytes.\n",
      "PC -> Device: Sent chunk 10 of size 16384 bytes\n",
      "Device -> PC: Success: Received chunk of size 16384, total received 180224 bytes.\n",
      "PC -> Device: Sent chunk 11 of size 16384 bytes\n",
      "Device -> PC: Success: Received chunk of size 16384, total received 196608 bytes.\n",
      "PC -> Device: Sent chunk 12 of size 16384 bytes\n",
      "Device -> PC: Success: Received chunk of size 16384, total received 212992 bytes.\n",
      "PC -> Device: Sent chunk 13 of size 16384 bytes\n",
      "Device -> PC: Success: Received chunk of size 16384, total received 229376 bytes.\n",
      "PC -> Device: Sent chunk 14 of size 16384 bytes\n",
      "Device -> PC: Success: Received chunk of size 16384, total received 245760 bytes.\n",
      "PC -> Device: Sent chunk 15 of size 16384 bytes\n",
      "Device -> PC: Success: Received chunk of size 16384, total received 262144 bytes.\n",
      "PC -> Device: Sent chunk 16 of size 16384 bytes\n",
      "Device -> PC: Success: Received chunk of size 16384, total received 278528 bytes.\n",
      "PC -> Device: Sent chunk 17 of size 16384 bytes\n",
      "Device -> PC: Success: Received chunk of size 16384, total received 294912 bytes.\n",
      "PC -> Device: Sent chunk 18 of size 16384 bytes\n",
      "Device -> PC: Success: Received chunk of size 16384, total received 311296 bytes.\n",
      "PC -> Device: Sent chunk 19 of size 16384 bytes\n",
      "Device -> PC: Success: Received chunk of size 16384, total received 327680 bytes.\n",
      "PC -> Device: Sent chunk 20 of size 16384 bytes\n",
      "Device -> PC: Success: Received chunk of size 16384, total received 344064 bytes.\n",
      "PC -> Device: Sent chunk 21 of size 16384 bytes\n",
      "Device -> PC: Success: Received chunk of size 16384, total received 360448 bytes.\n",
      "PC -> Device: Sent chunk 22 of size 16384 bytes\n",
      "Device -> PC: Success: Received chunk of size 16384, total received 376832 bytes.\n",
      "PC -> Device: Sent chunk 23 of size 16384 bytes\n",
      "Device -> PC: Success: Received chunk of size 16384, total received 393216 bytes.\n",
      "PC -> Device: Sent chunk 24 of size 16384 bytes\n",
      "Device -> PC: Success: Received chunk of size 16384, total received 409600 bytes.\n",
      "PC -> Device: Sent chunk 25 of size 16384 bytes\n",
      "Device -> PC: Success: Received chunk of size 16384, total received 425984 bytes.\n",
      "PC -> Device: Sent chunk 26 of size 16384 bytes\n",
      "Device -> PC: Success: Received chunk of size 16384, total received 442368 bytes.\n",
      "PC -> Device: Sent chunk 27 of size 16384 bytes\n",
      "Device -> PC: Success: Received chunk of size 16384, total received 458752 bytes.\n",
      "PC -> Device: Sent chunk 28 of size 16384 bytes\n",
      "Device -> PC: Success: Received chunk of size 16384, total received 475136 bytes.\n",
      "PC -> Device: Sent chunk 29 of size 16384 bytes\n",
      "Device -> PC: Success: Received chunk of size 16384, total received 491520 bytes.\n",
      "PC -> Device: Sent chunk 30 of size 16384 bytes\n",
      "Device -> PC: Success: Received chunk of size 16384, total received 507904 bytes.\n",
      "PC -> Device: Sent chunk 31 of size 16384 bytes\n",
      "Device -> PC: Success: Received chunk of size 16384, total received 524288 bytes.\n",
      "PC -> Device: Sent chunk 32 of size 16384 bytes\n",
      "Device -> PC: Success: Received chunk of size 16384, total received 540672 bytes.\n",
      "PC -> Device: Sent chunk 33 of size 16384 bytes\n",
      "Device -> PC: Success: Received chunk of size 16384, total received 557056 bytes.\n",
      "PC -> Device: Sent chunk 34 of size 16384 bytes\n",
      "Device -> PC: Success: Received chunk of size 16384, total received 573440 bytes.\n",
      "PC -> Device: Sent chunk 35 of size 16384 bytes\n",
      "Device -> PC: Success: Received chunk of size 16384, total received 589824 bytes.\n",
      "PC -> Device: Sent chunk 36 of size 16384 bytes\n",
      "Device -> PC: Success: Received chunk of size 16384, total received 606208 bytes.\n",
      "PC -> Device: Sent chunk 37 of size 16384 bytes\n",
      "Device -> PC: Success: Received chunk of size 16384, total received 622592 bytes.\n",
      "PC -> Device: Sent chunk 38 of size 16384 bytes\n",
      "Device -> PC: Success: Received chunk of size 16384, total received 638976 bytes.\n",
      "PC -> Device: Sent chunk 39 of size 16384 bytes\n",
      "Device -> PC: Success: Received chunk of size 16384, total received 655360 bytes.\n",
      "PC -> Device: Sent chunk 40 of size 16384 bytes\n",
      "Device -> PC: Success: Received chunk of size 16384, total received 671744 bytes.\n",
      "PC -> Device: Sent chunk 41 of size 16384 bytes\n",
      "Device -> PC: Success: Received chunk of size 16384, total received 688128 bytes.\n",
      "PC -> Device: Sent chunk 42 of size 16384 bytes\n",
      "Device -> PC: Success: Received chunk of size 16384, total received 704512 bytes.\n",
      "PC -> Device: Sent chunk 43 of size 16384 bytes\n",
      "Device -> PC: Success: Received chunk of size 16384, total received 720896 bytes.\n",
      "PC -> Device: Sent chunk 44 of size 16384 bytes\n",
      "Device -> PC: Success: Received chunk of size 16384, total received 737280 bytes.\n",
      "PC -> Device: Sent chunk 45 of size 16384 bytes\n",
      "Device -> PC: Success: Received chunk of size 16384, total received 753664 bytes.\n",
      "PC -> Device: Sent chunk 46 of size 16384 bytes\n",
      "Device -> PC: Success: Received chunk of size 16384, total received 770048 bytes.\n",
      "PC -> Device: Sent chunk 47 of size 16384 bytes\n",
      "Device -> PC: Success: Received chunk of size 16384, total received 786432 bytes.\n",
      "PC -> Device: Sent chunk 48 of size 16384 bytes\n",
      "Device -> PC: Success: Received chunk of size 16384, total received 802816 bytes.\n",
      "PC -> Device: Sent chunk 49 of size 16384 bytes\n",
      "Device -> PC: Success: Received chunk of size 16384, total received 819200 bytes.\n",
      "PC -> Device: Sent chunk 50 of size 16384 bytes\n",
      "Device -> PC: Success: Received chunk of size 16384, total received 835584 bytes.\n",
      "PC -> Device: Sent chunk 51 of size 16384 bytes\n",
      "Device -> PC: Success: Received chunk of size 16384, total received 851968 bytes.\n",
      "PC -> Device: Sent chunk 52 of size 16384 bytes\n",
      "Device -> PC: Success: Received chunk of size 16384, total received 868352 bytes.\n",
      "PC -> Device: Sent chunk 53 of size 16384 bytes\n",
      "Device -> PC: Success: Received chunk of size 16384, total received 884736 bytes.\n",
      "PC -> Device: Sent chunk 54 of size 16384 bytes\n",
      "Device -> PC: Success: Received chunk of size 16384, total received 901120 bytes.\n",
      "PC -> Device: Sent chunk 55 of size 16384 bytes\n",
      "Device -> PC: Success: Received chunk of size 16384, total received 917504 bytes.\n",
      "PC -> Device: Sent chunk 56 of size 16384 bytes\n",
      "Device -> PC: Success: Received chunk of size 16384, total received 933888 bytes.\n",
      "PC -> Device: Sent chunk 57 of size 16384 bytes\n",
      "Device -> PC: Success: Received chunk of size 16384, total received 950272 bytes.\n",
      "PC -> Device: Sent chunk 58 of size 16384 bytes\n",
      "Device -> PC: Success: Received chunk of size 16384, total received 966656 bytes.\n",
      "PC -> Device: Sent chunk 59 of size 16384 bytes\n",
      "Device -> PC: Success: Received chunk of size 16384, total received 983040 bytes.\n",
      "PC -> Device: Sent chunk 60 of size 16384 bytes\n",
      "Device -> PC: Success: Received chunk of size 16384, total received 999424 bytes.\n",
      "PC -> Device: Sent chunk 61 of size 16384 bytes\n",
      "Device -> PC: Success: Received chunk of size 16384, total received 1015808 bytes.\n",
      "PC -> Device: Sent chunk 62 of size 16384 bytes\n",
      "Device -> PC: Success: Received chunk of size 16384, total received 1032192 bytes.\n",
      "PC -> Device: Sent chunk 63 of size 16384 bytes\n",
      "Device -> PC: Success: Received chunk of size 16384, total received 1048576 bytes.\n",
      "PC -> Device: Sent chunk 64 of size 3966 bytes\n",
      "Device -> PC: Success: finished receiving test.pdf of size 1052542 bytes.\n"
     ]
    },
    {
     "data": {
      "text/plain": [
       "True"
      ]
     },
     "execution_count": 13,
     "metadata": {},
     "output_type": "execute_result"
    }
   ],
   "source": [
    "send_file(serial_port, \"test.pdf\")"
   ]
  },
  {
   "cell_type": "code",
   "execution_count": 14,
   "metadata": {},
   "outputs": [
    {
     "name": "stdout",
     "output_type": "stream",
     "text": [
      "Device -> PC: Success: Removed file test.pdf.\n"
     ]
    }
   ],
   "source": [
    "status = remove_file(serial_port, \"test.pdf\")"
   ]
  },
  {
   "cell_type": "code",
   "execution_count": 15,
   "metadata": {},
   "outputs": [],
   "source": [
    "serial_port.close()"
   ]
  }
 ],
 "metadata": {
  "kernelspec": {
   "display_name": ".venv",
   "language": "python",
   "name": "python3"
  },
  "language_info": {
   "codemirror_mode": {
    "name": "ipython",
    "version": 3
   },
   "file_extension": ".py",
   "mimetype": "text/x-python",
   "name": "python",
   "nbconvert_exporter": "python",
   "pygments_lexer": "ipython3",
   "version": "3.11.5"
  }
 },
 "nbformat": 4,
 "nbformat_minor": 2
}
