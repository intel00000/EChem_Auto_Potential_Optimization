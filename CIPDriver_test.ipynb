{
 "cells": [
  {
   "cell_type": "code",
   "execution_count": 2,
   "metadata": {},
   "outputs": [],
   "source": [
    "# install pycomm3 and ipywidgets packages\n",
    "# !pip install -q pycomm3 ipywidgets"
   ]
  },
  {
   "cell_type": "code",
   "execution_count": 1,
   "metadata": {},
   "outputs": [],
   "source": [
    "import pycomm3\n",
    "from pycomm3 import logger\n",
    "\n",
    "logger = logger.configure_default_logger(level=\"VERBOSE\", filename=\"pycomm3.log\")"
   ]
  },
  {
   "cell_type": "code",
   "execution_count": 4,
   "metadata": {},
   "outputs": [
    {
     "name": "stdout",
     "output_type": "stream",
     "text": [
      "2024-06-19 12:03:57,261 [INFO] pycomm3.cip_driver.CIPDriver.discover(): Discovering devices...\n",
      "2024-06-19 12:03:57,261 [DEBUG] pycomm3.cip_driver.CIPDriver.discover(): Broadcasting discover for IP: 192.168.1.100\n",
      "2024-06-19 12:03:57,262 [ERROR] pycomm3.cip_driver.CIPDriver._broadcast_discover(): Error broadcasting discover request\n",
      "Traceback (most recent call last):\n",
      "  File \"c:\\Program Files\\Python311\\Lib\\site-packages\\pycomm3\\cip_driver.py\", line 247, in _broadcast_discover\n",
      "    sock.sendto(message, (broadcast_address, 44818))\n",
      "OSError: [WinError 10051] A socket operation was attempted to an unreachable network\n",
      "2024-06-19 12:03:57,263 [DEBUG] pycomm3.cip_driver.CIPDriver.discover(): No devices found so far, attempting broadcast without binding to an IP.\n",
      "2024-06-19 12:03:57,264 [ERROR] pycomm3.cip_driver.CIPDriver._broadcast_discover(): Error broadcasting discover request\n",
      "Traceback (most recent call last):\n",
      "  File \"c:\\Program Files\\Python311\\Lib\\site-packages\\pycomm3\\cip_driver.py\", line 247, in _broadcast_discover\n",
      "    sock.sendto(message, (broadcast_address, 44818))\n",
      "OSError: [WinError 10051] A socket operation was attempted to an unreachable network\n",
      "2024-06-19 12:03:57,264 [INFO] pycomm3.cip_driver.CIPDriver.discover(): No Ethernet/IP devices discovered\n"
     ]
    }
   ],
   "source": [
    "devices_list = pycomm3.CIPDriver.discover(broadcast_address=\"255.255.255.0\")"
   ]
  },
  {
   "cell_type": "code",
   "execution_count": 3,
   "metadata": {},
   "outputs": [],
   "source": [
    "import socket"
   ]
  },
  {
   "cell_type": "code",
   "execution_count": 4,
   "metadata": {},
   "outputs": [
    {
     "data": {
      "text/plain": [
       "[(<AddressFamily.AF_INET6: 23>,\n",
       "  0,\n",
       "  0,\n",
       "  '',\n",
       "  ('fe80::7ea9:5cc8:d888:66a4', 0, 0, 18)),\n",
       " (<AddressFamily.AF_INET: 2>, 0, 0, '', ('192.168.1.100', 0)),\n",
       " (<AddressFamily.AF_INET6: 23>,\n",
       "  0,\n",
       "  0,\n",
       "  '',\n",
       "  ('fd12:5e1d:bd43:fe40:48c1:b30:464d:1002', 0, 0, 0)),\n",
       " (<AddressFamily.AF_INET6: 23>,\n",
       "  0,\n",
       "  0,\n",
       "  '',\n",
       "  ('fd12:5e1d:bd43:fe40:2dea:5be7:791c:ed0c', 0, 0, 0))]"
      ]
     },
     "execution_count": 4,
     "metadata": {},
     "output_type": "execute_result"
    }
   ],
   "source": [
    "socket.getaddrinfo(socket.gethostname(), None)"
   ]
  },
  {
   "cell_type": "code",
   "execution_count": null,
   "metadata": {},
   "outputs": [],
   "source": [
    "socket.socket(socket.AF_INET, socket.SOCK_STREAM)"
   ]
  },
  {
   "cell_type": "code",
   "execution_count": 2,
   "metadata": {},
   "outputs": [
    {
     "name": "stdout",
     "output_type": "stream",
     "text": [
      "No devices found\n"
     ]
    }
   ],
   "source": [
    "\n",
    "\n",
    "# Discover the devices on the network\n",
    "devices_list = CIPDriver.discover()\n",
    "\n",
    "# if the devices_list is empty\n",
    "if not devices_list:\n",
    "    print('No devices found')\n",
    "else:\n",
    "    for device in devices_list:\n",
    "        print(device)"
   ]
  },
  {
   "cell_type": "code",
   "execution_count": 7,
   "metadata": {},
   "outputs": [
    {
     "name": "stderr",
     "output_type": "stream",
     "text": [
      "DEBUG:__main__:Connecting to 192.168.1.100:44818\n",
      "ERROR:__main__:Failed to connect to 192.168.1.100:44818 - [WinError 10061] No connection could be made because the target machine actively refused it\n"
     ]
    }
   ],
   "source": [
    "import socket\n",
    "import logging\n",
    "\n",
    "# Setup logging\n",
    "logging.basicConfig(level=logging.DEBUG)\n",
    "logger = logging.getLogger(__name__)\n",
    "\n",
    "class CIPClient:\n",
    "    def __init__(self, ip, port, timeout=5):\n",
    "        self.ip = ip\n",
    "        self.port = port\n",
    "        self.timeout = timeout\n",
    "        self.sock = None\n",
    "\n",
    "    def connect(self):\n",
    "        try:\n",
    "            self.sock = socket.socket(socket.AF_INET, socket.SOCK_STREAM)\n",
    "            self.sock.settimeout(self.timeout)\n",
    "            logger.debug(f\"Connecting to {self.ip}:{self.port}\")\n",
    "            self.sock.connect((self.ip, self.port))\n",
    "            logger.debug(\"Connection established\")\n",
    "            return True\n",
    "        except Exception as e:\n",
    "            logger.error(f\"Failed to connect to {self.ip}:{self.port} - {e}\")\n",
    "            return False\n",
    "\n",
    "    def listen_for_reply(self):\n",
    "        try:\n",
    "            while True:\n",
    "                data = self.sock.recv(1024)\n",
    "                if not data:\n",
    "                    break\n",
    "                logger.debug(f\"Received data: {data}\")\n",
    "                print(f\"Received: {data}\")\n",
    "        except socket.timeout:\n",
    "            logger.debug(\"Socket timeout, no more data.\")\n",
    "        except Exception as e:\n",
    "            logger.error(f\"Error receiving data - {e}\")\n",
    "        finally:\n",
    "            self.close()\n",
    "\n",
    "    def close(self):\n",
    "        if self.sock:\n",
    "            self.sock.close()\n",
    "            logger.debug(\"Socket closed\")\n",
    "\n",
    "\n",
    "ip_address = \"192.168.1.100\"  # Replace with the actual IP address\n",
    "port = 44818  # Replace with the actual port number from the EDS file\n",
    "client = CIPClient(ip_address, port)\n",
    "if client.connect():\n",
    "    client.listen_for_reply()"
   ]
  },
  {
   "cell_type": "code",
   "execution_count": 3,
   "metadata": {},
   "outputs": [],
   "source": [
    "class PumpController:\n",
    "    \"\"\"\n",
    "    A PumpController class to handle communication with a pump using EtherNet/IP \n",
    "    protocol. It allows reading and writing parameters to the pump.\n",
    "    \"\"\"\n",
    "    def __init__(self, ip_address):\n",
    "        \"\"\"\n",
    "        Initializes the PumpController with the given IP address of the pump.\n",
    "\n",
    "        Parameters:\n",
    "        ip_address (str): The IP address of the pump.\n",
    "        \"\"\"\n",
    "        self.ip_address = ip_address\n",
    "\n",
    "        #! potential error here, don't how the tag list is initialized automatically or not\n",
    "        #! or maybe the pump don't work with this package at all, then we have to fall back to the CIPDriver\n",
    "        with pycomm3.LogixDriver(ip_address, init_tags=True) as pump:\n",
    "            self.pump = pump\n",
    "        #! potential error here, don't how the tag list is initialized automatically or not\n",
    "\n",
    "        # I don't if open() is necessary here, official doc doesn't mention it\n",
    "        open_return = self.pump.open()\n",
    "        print(f\"Open return: {open_return}\")\n",
    "\n",
    "        # Check if the connection was successful\n",
    "        if self.pump.connected:\n",
    "            print(f\"Connected to pump at {ip_address}\")\n",
    "\n",
    "            # Print PLC info\n",
    "            plc_info = self.pump.get_plc_info()\n",
    "\n",
    "            print(\"PLC Info:\")\n",
    "            for key, value in plc_info.items():\n",
    "                print(f\"{key}: {value}\")\n",
    "        else:\n",
    "            print(f\"Failed to connect to pump at {ip_address}\")\n",
    "\n",
    "# if the device is not empty, we will attempt to create a PumpController object for each device\n",
    "for device in devices_list:\n",
    "    ip_address = device['ip_address']\n",
    "    pump_controller = PumpController(ip_address)"
   ]
  }
 ],
 "metadata": {
  "kernelspec": {
   "display_name": "Python 3",
   "language": "python",
   "name": "python3"
  },
  "language_info": {
   "codemirror_mode": {
    "name": "ipython",
    "version": 3
   },
   "file_extension": ".py",
   "mimetype": "text/x-python",
   "name": "python",
   "nbconvert_exporter": "python",
   "pygments_lexer": "ipython3",
   "version": "3.11.5"
  }
 },
 "nbformat": 4,
 "nbformat_minor": 2
}
