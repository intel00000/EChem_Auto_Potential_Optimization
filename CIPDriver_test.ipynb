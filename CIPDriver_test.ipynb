{
 "cells": [
  {
   "cell_type": "code",
   "execution_count": null,
   "metadata": {},
   "outputs": [],
   "source": [
    "# install pycomm3 and ipywidgets packages\n",
    "!pip install -q pycomm3 ipywidgets"
   ]
  },
  {
   "cell_type": "code",
   "execution_count": 6,
   "metadata": {},
   "outputs": [
    {
     "name": "stdout",
     "output_type": "stream",
     "text": [
      "[]\n"
     ]
    }
   ],
   "source": [
    "import pycomm3\n",
    "\n",
    "# Discover the devices on the network\n",
    "devices_list = pycomm3.CIPDriver.discover()\n",
    "print(devices_list)\n",
    "\n",
    "#! if no devices are found, it will return an empty list: []\n",
    "#! it should return something list below when the PLC is connected to the laptop via ethernet\n",
    "\n",
    "# [{'encap_protocol_version': 1, 'ip_address': '10.10.0.120', 'vendor': 'Rockwell Automation/Allen-Bradley',\n",
    "#   'product_type': 'Communications Adapter', 'product_code': 185, 'revision': {'major': 2, 'minor': 7},\n",
    "#   'status': b'T\\x00', 'serial': 'aabbcdd', 'product_name': '1763-L16BWA B/7.00', 'state': 0},\n",
    "#  {'encap_protocol_version': 1, 'ip_address': '10.10.1.100', 'vendor': 'Rockwell Automation/Allen-Bradley',\n",
    "#   'product_type': 'Communications Adapter', 'product_code': 191, 'revision': {'major': 20, 'minor': 19},\n",
    "#   'status': b'0\\x00', 'serial': 'eeffgghh', 'product_name': '1769-L23E-QBFC1 Ethernet Port', 'state': 3}]"
   ]
  },
  {
   "cell_type": "code",
   "execution_count": null,
   "metadata": {},
   "outputs": [],
   "source": [
    "class PumpController:\n",
    "    \"\"\"\n",
    "    A PumpController class to handle communication with a pump using EtherNet/IP \n",
    "    protocol. It allows reading and writing parameters to the pump.\n",
    "    \"\"\"\n",
    "    def __init__(self, ip_address):\n",
    "        \"\"\"\n",
    "        Initializes the PumpController with the given IP address of the pump.\n",
    "\n",
    "        Parameters:\n",
    "        ip_address (str): The IP address of the pump.\n",
    "        \"\"\"\n",
    "        self.ip_address = ip_address\n",
    "\n",
    "        #! potential error here, don't how the tag list is initialized automatically or not\n",
    "        #! or maybe the pump don't work with this package at all, then we have to fall back to the CIPDriver\n",
    "        with pycomm3.LogixDriver(ip_address, init_tags=True) as pump:\n",
    "            self.pump = pump\n",
    "        #! potential error here, don't how the tag list is initialized automatically or not\n",
    "\n",
    "        # I don't if open() is necessary here, official doc doesn't mention it\n",
    "        open_return = self.pump.open()\n",
    "        print(f\"Open return: {open_return}\")\n",
    "\n",
    "        # Check if the connection was successful\n",
    "        if self.pump.connected:\n",
    "            print(f\"Connected to pump at {ip_address}\")\n",
    "\n",
    "            # Print PLC info\n",
    "            plc_info = self.pump.get_plc_info()\n",
    "\n",
    "            print(\"PLC Info:\")\n",
    "            for key, value in plc_info.items():\n",
    "                print(f\"{key}: {value}\")\n",
    "        else:\n",
    "            print(f\"Failed to connect to pump at {ip_address}\")\n",
    "\n",
    "# if the device is not empty, we will attempt to create a PumpController object for each device\n",
    "for device in devices_list:\n",
    "    ip_address = device['ip_address']\n",
    "    pump_controller = PumpController(ip_address)"
   ]
  }
 ],
 "metadata": {
  "kernelspec": {
   "display_name": "Python 3",
   "language": "python",
   "name": "python3"
  },
  "language_info": {
   "codemirror_mode": {
    "name": "ipython",
    "version": 3
   },
   "file_extension": ".py",
   "mimetype": "text/x-python",
   "name": "python",
   "nbconvert_exporter": "python",
   "pygments_lexer": "ipython3",
   "version": "3.11.5"
  }
 },
 "nbformat": 4,
 "nbformat_minor": 2
}
