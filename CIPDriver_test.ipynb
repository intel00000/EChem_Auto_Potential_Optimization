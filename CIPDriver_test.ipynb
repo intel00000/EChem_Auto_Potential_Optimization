{
 "cells": [
  {
   "cell_type": "code",
   "execution_count": 1,
   "metadata": {},
   "outputs": [],
   "source": [
    "# install pycomm3 and ipywidgets packages\n",
    "!pip install -q pycomm3 ipywidgets"
   ]
  },
  {
   "cell_type": "code",
   "execution_count": 2,
   "metadata": {},
   "outputs": [
    {
     "name": "stdout",
     "output_type": "stream",
     "text": [
      "No devices found\n"
     ]
    }
   ],
   "source": [
    "import pycomm3\n",
    "\n",
    "# Discover the devices on the network\n",
    "devices_list = pycomm3.CIPDriver.discover()\n",
    "\n",
    "# if the devices_list is empty\n",
    "if not devices_list:\n",
    "    print('No devices found')\n",
    "else:\n",
    "    for device in devices_list:\n",
    "        print(device)"
   ]
  },
  {
   "cell_type": "code",
   "execution_count": 3,
   "metadata": {},
   "outputs": [],
   "source": [
    "class PumpController:\n",
    "    \"\"\"\n",
    "    A PumpController class to handle communication with a pump using EtherNet/IP \n",
    "    protocol. It allows reading and writing parameters to the pump.\n",
    "    \"\"\"\n",
    "    def __init__(self, ip_address):\n",
    "        \"\"\"\n",
    "        Initializes the PumpController with the given IP address of the pump.\n",
    "\n",
    "        Parameters:\n",
    "        ip_address (str): The IP address of the pump.\n",
    "        \"\"\"\n",
    "        self.ip_address = ip_address\n",
    "\n",
    "        #! potential error here, don't how the tag list is initialized automatically or not\n",
    "        #! or maybe the pump don't work with this package at all, then we have to fall back to the CIPDriver\n",
    "        with pycomm3.LogixDriver(ip_address, init_tags=True) as pump:\n",
    "            self.pump = pump\n",
    "        #! potential error here, don't how the tag list is initialized automatically or not\n",
    "\n",
    "        # I don't if open() is necessary here, official doc doesn't mention it\n",
    "        open_return = self.pump.open()\n",
    "        print(f\"Open return: {open_return}\")\n",
    "\n",
    "        # Check if the connection was successful\n",
    "        if self.pump.connected:\n",
    "            print(f\"Connected to pump at {ip_address}\")\n",
    "\n",
    "            # Print PLC info\n",
    "            plc_info = self.pump.get_plc_info()\n",
    "\n",
    "            print(\"PLC Info:\")\n",
    "            for key, value in plc_info.items():\n",
    "                print(f\"{key}: {value}\")\n",
    "        else:\n",
    "            print(f\"Failed to connect to pump at {ip_address}\")\n",
    "\n",
    "# if the device is not empty, we will attempt to create a PumpController object for each device\n",
    "for device in devices_list:\n",
    "    ip_address = device['ip_address']\n",
    "    pump_controller = PumpController(ip_address)"
   ]
  }
 ],
 "metadata": {
  "kernelspec": {
   "display_name": "Python 3",
   "language": "python",
   "name": "python3"
  },
  "language_info": {
   "codemirror_mode": {
    "name": "ipython",
    "version": 3
   },
   "file_extension": ".py",
   "mimetype": "text/x-python",
   "name": "python",
   "nbconvert_exporter": "python",
   "pygments_lexer": "ipython3",
   "version": "3.11.5"
  }
 },
 "nbformat": 4,
 "nbformat_minor": 2
}
