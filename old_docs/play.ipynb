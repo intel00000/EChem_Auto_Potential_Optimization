{
 "cells": [
  {
   "cell_type": "code",
   "execution_count": 1,
   "metadata": {},
   "outputs": [
    {
     "data": {
      "text/plain": [
       "0"
      ]
     },
     "execution_count": 1,
     "metadata": {},
     "output_type": "execute_result"
    }
   ],
   "source": [
    "import bluesky\n",
    "from bluesky import plans as bsp\n",
    "from bluesky.callbacks.best_effort import BestEffortCallback\n",
    "from ophyd.status import Status\n",
    "\n",
    "\n",
    "class Settable(object):\n",
    "    def __init__(self, name: str):\n",
    "        self.name = name\n",
    "        self.parent = None\n",
    "        self.value = 0.0\n",
    "\n",
    "    def describe(self) -> dict:\n",
    "        out = dict()\n",
    "        out[f\"{self.name}_setpoint\"] = {\"source\": \"FakeSettable\", \"dtype\": \"number\", \"shape\": []}\n",
    "        out[f\"{self.name}_readback\"] = {\"source\": \"FakeSettable\", \"dtype\": \"number\", \"shape\": []}\n",
    "        return out\n",
    "\n",
    "    def read(self) -> dict:\n",
    "        ts = time.time()\n",
    "        out = dict()\n",
    "        out[f\"{self.name}_setpoint\"] = {\"value\": self.value, \"timestamp\": ts}\n",
    "        out[f\"{self.name}_readback\"] = {\"value\": self.value, \"timestamp\": ts}\n",
    "        return out\n",
    "\n",
    "    def set(self, value) -> Status:\n",
    "        self.value = value\n",
    "        s = Status()\n",
    "        s.set_finished()\n",
    "        return s\n",
    "\n",
    "    @property\n",
    "    def position(self):\n",
    "        return self.value\n",
    "\n",
    "\n",
    "w1 = Settable(\"w1\")\n",
    "voltage = Settable(\"voltage\")\n",
    "\n",
    "\n",
    "class MyProcessor(object):\n",
    "\n",
    "    def __init__(self):\n",
    "        pass\n",
    "\n",
    "    def __call__(self, name, document):\n",
    "        print(name, document)\n",
    "\n",
    "\n",
    "RE = bluesky.RunEngine()\n",
    "\n",
    "mp = MyProcessor()\n",
    "RE.subscribe(mp)\n"
   ]
  }
 ],
 "metadata": {
  "kernelspec": {
   "display_name": "Python 3",
   "language": "python",
   "name": "python3"
  },
  "language_info": {
   "codemirror_mode": {
    "name": "ipython",
    "version": 3
   },
   "file_extension": ".py",
   "mimetype": "text/x-python",
   "name": "python",
   "nbconvert_exporter": "python",
   "pygments_lexer": "ipython3",
   "version": "3.11.7"
  }
 },
 "nbformat": 4,
 "nbformat_minor": 2
}
